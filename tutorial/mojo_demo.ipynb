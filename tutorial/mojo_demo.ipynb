{
 "cells": [
  {
   "cell_type": "markdown",
   "id": "490daf42",
   "metadata": {},
   "source": [
    "# Mojo Tutorial\n",
    "\n",
    "This notebook walks through basic comparison of python and [mojo](https://docs.modular.com/mojo/)\n",
    "and it's application in quantitative economics.\n",
    "\n",
    "The notebook is built on top of\n",
    "[mojo example](https://github.com/modularml/mojo/blob/main/examples/notebooks/HelloMojo.ipynb).\n",
    "\n",
    "\n",
    "Mojo is a powerful programming language that's primarily designed for\n",
    "high-performance systems programming, so it has a lot in common with\n",
    "other systems languages like Rust and C++. Yet, Mojo is also designed\n",
    "to become a superset of Python, so a lot of language features\n",
    "and concepts you might know from Python translate nicely to Mojo."
   ]
  },
  {
   "cell_type": "code",
   "execution_count": null,
   "id": "6b31a1c0",
   "metadata": {},
   "outputs": [],
   "source": [
    "print(\"Hello Mojo\")"
   ]
  },
  {
   "cell_type": "markdown",
   "id": "7962fed7",
   "metadata": {},
   "source": [
    "Mojo preserves Python's dynamic features and language syntax, and\n",
    "it even allows you to import and run code from Python packages.\n",
    "However, it's important to know that Mojo is an entirely new\n",
    "language, not just a new implementation of Python with syntax sugar.\n",
    "\n",
    "Mojo takes the Python language to a whole new level, with\n",
    "systems programming features, strong type-checking, memory safety,\n",
    "next-generation compiler technologies, and more. Yet, it's still\n",
    "designed to be a simple language that's useful for general-purpose programming.\n",
    "\n",
    "First and foremost, Mojo is a compiled language and a lot of its\n",
    "performance and memory-safety features are derived from that fact.\n",
    "Mojo code can be ahead-of-time (AOT) or just-in-time (JIT) compiled.\n",
    "\n",
    "## Variables\n",
    "\n",
    "You can declare variables with `var` to create a mutable value,\n",
    "or with `let` to create an immutable value.\n",
    "\n",
    "Let's observe the difference in using them."
   ]
  },
  {
   "cell_type": "code",
   "execution_count": null,
   "id": "c36e54d6",
   "metadata": {},
   "outputs": [],
   "source": [
    "fn main():\n",
    "    var x: Int = 10\n",
    "    x += 1\n",
    "    print(x)\n",
    "\n",
    "main()"
   ]
  },
  {
   "cell_type": "markdown",
   "id": "023af7f1",
   "metadata": {},
   "source": [
    "This works fine as expected. Now, let's replace `var` with `let`\n",
    "and notice the error."
   ]
  },
  {
   "cell_type": "code",
   "execution_count": null,
   "id": "33e9e09f",
   "metadata": {
    "tags": [
     "raises-exception"
    ]
   },
   "outputs": [],
   "source": [
    "fn main():\n",
    "    let x: Int = 10\n",
    "    x += 1\n",
    "    print(x)\n",
    "\n",
    "main()"
   ]
  },
  {
   "cell_type": "markdown",
   "id": "2af8c160",
   "metadata": {},
   "source": [
    "That's because `let` makes the value immutable, so you can't increment it.\n",
    "\n",
    "## Function\n",
    "\n",
    "\n",
    "Mojo functions can be declared with either `fn` or `def` (as in Python).\n",
    "The `fn` declaration enforces\n",
    "strongly-typed and memory-safe behaviors, while `def` provides\n",
    "Python-style dynamic behaviors."
   ]
  },
  {
   "cell_type": "code",
   "execution_count": null,
   "id": "86005119",
   "metadata": {},
   "outputs": [],
   "source": [
    "fn some_fun():\n",
    "    let x: Int = 1\n",
    "    let y = 2\n",
    "    print(x + y)\n",
    "\n",
    "some_fun()"
   ]
  },
  {
   "cell_type": "markdown",
   "id": "46d6fddc",
   "metadata": {},
   "source": [
    "Notice that the `x` variable has an explicit `Int` type specification.\n",
    "Declaring the type is not required for variables in `fn`,\n",
    "but it is desirable sometimes. If you omit it, Mojo infers the type.\n",
    "\n",
    "Although types aren't required for variables declared in the function body,\n",
    "they are required for arguments and return values for an `fn` function.\n",
    "\n",
    "For example, here's how to declare `Int` as the type for function\n",
    "arguments and the return value:"
   ]
  },
  {
   "cell_type": "code",
   "execution_count": null,
   "id": "39ea5043",
   "metadata": {},
   "outputs": [],
   "source": [
    "fn add_two_ints(x: Int, y: Int) -> Int:\n",
    "    return x + y\n",
    "\n",
    "z = add_two_ints(1, 2)\n",
    "print(z)"
   ]
  },
  {
   "cell_type": "markdown",
   "id": "3d797c43",
   "metadata": {},
   "source": [
    "If you want the arguments to be *mutable*, you need to declare each\n",
    "argument convention as `inout`. This means that changes made to\n",
    "the arguments *inside* the function are visible outside the function."
   ]
  },
  {
   "cell_type": "code",
   "execution_count": null,
   "id": "ebaaf45f",
   "metadata": {},
   "outputs": [],
   "source": [
    "fn add_inout(inout x: Int, inout y: Int) -> Int:\n",
    "    x += 1\n",
    "    y += 1\n",
    "    return x + y\n",
    "\n",
    "var a = 1\n",
    "var b = 2\n",
    "print(\"Values of a and b before calling the function:\", a, \",\", b)\n",
    "\n",
    "c = add_inout(a, b)\n",
    "\n",
    "print(\"Values of a and b after calling the function:\", a, \",\", b)\n",
    "print(\"Value of c:\", c)"
   ]
  },
  {
   "cell_type": "markdown",
   "id": "c6a1ac19",
   "metadata": {},
   "source": [
    "Notice how the values of `a` and `b` are changed due to\n",
    "mutable definition using `inout`.\n",
    "\n",
    "## Structures\n",
    "\n",
    "We can build high-level abstractions for types (or \"objects\") in a struct.\n",
    "A struct in Mojo is similar to a class in Python: they both support methods,\n",
    "fields, operator overloading, decorators for metaprogramming, etc.\n",
    "However, Mojo structs are completely static—they are bound at compile-time,\n",
    "so they do not allow dynamic dispatch or any runtime\n",
    "changes to the structure.\n",
    "\n",
    "For example, here's a basic struct:"
   ]
  },
  {
   "cell_type": "code",
   "execution_count": null,
   "id": "52c1cab7",
   "metadata": {},
   "outputs": [],
   "source": [
    "struct MyPair:\n",
    "    var first: Int\n",
    "    var second: Int\n",
    "\n",
    "    fn __init__(inout self, first: Int, second: Int):\n",
    "        self.first = first\n",
    "        self.second = second\n",
    "    \n",
    "    fn dump(self):\n",
    "        print(self.first, self.second)"
   ]
  },
  {
   "cell_type": "code",
   "execution_count": null,
   "id": "bdc25102",
   "metadata": {},
   "outputs": [],
   "source": [
    "let my_pair = MyPair(2, 4)\n",
    "my_pair.dump()"
   ]
  }
 ],
 "metadata": {
  "kernelspec": {
   "display_name": "Mojo",
   "language": "mojo",
   "name": "mojo-jupyter-kernel"
  }
 },
 "nbformat": 4,
 "nbformat_minor": 5
}
